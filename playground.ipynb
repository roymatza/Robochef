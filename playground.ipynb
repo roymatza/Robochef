{
 "cells": [
  {
   "cell_type": "code",
   "execution_count": 1,
   "source": [
    "import os, shutil\n",
    "from time import sleep\n",
    "import random \n",
    "\n",
    "from ai2thor.server import Event\n",
    "from problem import Problem\n",
    "from ai2thor.controller import Controller\n",
    "from tasks import ClearDishes, SliceTomato, MakeToast, ServeCoffee, CookEgg, SetTable\n",
    "import scene_info as si\n",
    "from pddl2scene import PlanHandler\n",
    "from scene2pddl import SceneHandler"
   ],
   "outputs": [],
   "metadata": {}
  },
  {
   "cell_type": "code",
   "execution_count": 2,
   "source": [
    "kitchens = [f\"FloorPlan{i}\" for i in range(1, 31)]\n",
    "rand_scene = random.choice(kitchens)"
   ],
   "outputs": [],
   "metadata": {}
  },
  {
   "cell_type": "code",
   "execution_count": 3,
   "source": [
    "controller = Controller(\n",
    "    agentMode=\"default\",\n",
    "    visibilityDistance = si.visibilityDistance,\n",
    "    scene=rand_scene,\n",
    "\n",
    "    # step sizes\n",
    "    gridSize=0.25,\n",
    "    snapToGrid=True,\n",
    "    rotateStepDegrees=90,\n",
    "\n",
    "    # image modalities\n",
    "    renderDepthImage=False,\n",
    "    renderInstanceSegmentation=False,\n",
    "\n",
    "    branch=\"main\",\n",
    "\n",
    "\n",
    "    #camera properties\n",
    "    width=384,\n",
    "    height=216,\n",
    "    fieldOfView=120\n",
    ")"
   ],
   "outputs": [],
   "metadata": {}
  },
  {
   "cell_type": "code",
   "execution_count": 4,
   "source": [
    "tasks = [ServeCoffee(),\n",
    "         CookEgg()]"
   ],
   "outputs": [],
   "metadata": {}
  },
  {
   "cell_type": "code",
   "execution_count": 5,
   "source": [
    "domain_filename = \"pddl/robochef.pddl\"\n",
    "problems_path = \"pddl/problems\"\n",
    "planner_path = \"planners/LPG-td-1.4/lpg-td\"\n",
    "max_actions = 1000"
   ],
   "outputs": [],
   "metadata": {}
  },
  {
   "cell_type": "code",
   "execution_count": 6,
   "source": [
    "##clean old data\n",
    "if os.path.exists(problems_path):\n",
    "    shutil.rmtree(problems_path)\n",
    "os.mkdir(problems_path)"
   ],
   "outputs": [],
   "metadata": {}
  },
  {
   "cell_type": "code",
   "execution_count": 7,
   "source": [
    "#model the problem\n",
    "problem = Problem(controller, tasks)\n"
   ],
   "outputs": [],
   "metadata": {}
  },
  {
   "cell_type": "code",
   "execution_count": 8,
   "source": [
    "#generate a PDDL problem file\n",
    "problem_filename = SceneHandler(problem).ToPDDL(problems_path)\n"
   ],
   "outputs": [
    {
     "output_type": "stream",
     "name": "stdout",
     "text": [
      "File pddl/problems/problem_18948.pddl written successfully\n"
     ]
    }
   ],
   "metadata": {}
  },
  {
   "cell_type": "code",
   "execution_count": 11,
   "source": [
    "#use planner to get a solution\n",
    "plan_filepath, l_from, l_to = SceneHandler.Plan(planner_path, domain_filename, problem_filename)\n",
    "plan_handler = PlanHandler(plan_filepath, problem, l_from, l_to)"
   ],
   "outputs": [],
   "metadata": {}
  },
  {
   "cell_type": "code",
   "execution_count": 17,
   "source": [
    "#execute actions\n",
    "for i in range(max_actions):\n",
    "    action = plan_handler.parse_line()\n",
    "    if action is not None:\n",
    "        event = action.execute()\n",
    "        if event is not None:\n",
    "            Problem.PrintLastActionStatus(event, action.args)\n",
    "        sleep(0.5)\n",
    "    else:\n",
    "        problem.controller.step('Pass')\n",
    "        input(\"Mission finished! Press Enter to continue...\")\n",
    "        break"
   ],
   "outputs": [
    {
     "output_type": "stream",
     "name": "stdout",
     "text": [
      "SliceObject--['egg1', 'pan1']--successful\n",
      "CookObject--['egg1', 'pan1', 'stoveburner1']--unsuccesful\n",
      "Error:  object not found: Egg|+00.71|+00.94|+00.94|EggCracked_0\n",
      "PickupObject--['egg1']--unsuccesful\n",
      "Error:  NullReferenceException: Target object not found within the specified visibility.\n",
      "Done--['egg1', 'plate1']--successful\n",
      "TeleportFull--['plate1']--successful\n",
      "PutObject--['egg1', 'plate1']--unsuccesful\n",
      "Error:  No valid positions to place object found\n",
      "PickupObject--['plate1']--unsuccesful\n",
      "Error:  InvalidOperationException: Agent hand has something in it already! Can't pick up anything else\n",
      "Done--['plate1', 'countertop1']--successful\n",
      "TeleportFull--['countertop1']--successful\n",
      "PutObject--['plate1', 'countertop1']--successful\n",
      "Done--['countertop1', 'mug1']--successful\n",
      "TeleportFull--['mug1']--successful\n",
      "PickupObject--['mug1']--successful\n",
      "Done--['mug1', 'coffeemachine1']--successful\n",
      "TeleportFull--['coffeemachine1']--successful\n",
      "PutObject--['mug1', 'coffeemachine1']--successful\n",
      "ToggleObjectOn--['coffeemachine1']--successful\n",
      "Done--['coffeemachine1', 'mug1']--successful\n",
      "TeleportFull--['mug1']--successful\n",
      "PickupObject--['mug1']--successful\n",
      "Done--['mug1', 'countertop1']--successful\n",
      "TeleportFull--['countertop1']--successful\n",
      "PutObject--['mug1', 'countertop1']--successful\n"
     ]
    },
    {
     "output_type": "error",
     "ename": "KeyboardInterrupt",
     "evalue": "Interrupted by user",
     "traceback": [
      "\u001b[0;31m---------------------------------------------------------------------------\u001b[0m",
      "\u001b[0;31mKeyboardInterrupt\u001b[0m                         Traceback (most recent call last)",
      "\u001b[0;32m<ipython-input-17-a8e0fe0e5806>\u001b[0m in \u001b[0;36m<module>\u001b[0;34m\u001b[0m\n\u001b[1;32m      9\u001b[0m     \u001b[0;32melse\u001b[0m\u001b[0;34m:\u001b[0m\u001b[0;34m\u001b[0m\u001b[0;34m\u001b[0m\u001b[0m\n\u001b[1;32m     10\u001b[0m         \u001b[0mproblem\u001b[0m\u001b[0;34m.\u001b[0m\u001b[0mcontroller\u001b[0m\u001b[0;34m.\u001b[0m\u001b[0mstep\u001b[0m\u001b[0;34m(\u001b[0m\u001b[0;34m'Pass'\u001b[0m\u001b[0;34m)\u001b[0m\u001b[0;34m\u001b[0m\u001b[0;34m\u001b[0m\u001b[0m\n\u001b[0;32m---> 11\u001b[0;31m         \u001b[0minput\u001b[0m\u001b[0;34m(\u001b[0m\u001b[0;34m\"Mission finished! Press Enter to continue...\"\u001b[0m\u001b[0;34m)\u001b[0m\u001b[0;34m\u001b[0m\u001b[0;34m\u001b[0m\u001b[0m\n\u001b[0m\u001b[1;32m     12\u001b[0m         \u001b[0;32mbreak\u001b[0m\u001b[0;34m\u001b[0m\u001b[0;34m\u001b[0m\u001b[0m\n",
      "\u001b[0;32m~/anaconda3/envs/planning/lib/python3.9/site-packages/ipykernel/kernelbase.py\u001b[0m in \u001b[0;36mraw_input\u001b[0;34m(self, prompt)\u001b[0m\n\u001b[1;32m    858\u001b[0m                 \u001b[0;34m\"raw_input was called, but this frontend does not support input requests.\"\u001b[0m\u001b[0;34m\u001b[0m\u001b[0;34m\u001b[0m\u001b[0m\n\u001b[1;32m    859\u001b[0m             )\n\u001b[0;32m--> 860\u001b[0;31m         return self._input_request(str(prompt),\n\u001b[0m\u001b[1;32m    861\u001b[0m             \u001b[0mself\u001b[0m\u001b[0;34m.\u001b[0m\u001b[0m_parent_ident\u001b[0m\u001b[0;34m,\u001b[0m\u001b[0;34m\u001b[0m\u001b[0;34m\u001b[0m\u001b[0m\n\u001b[1;32m    862\u001b[0m             \u001b[0mself\u001b[0m\u001b[0;34m.\u001b[0m\u001b[0m_parent_header\u001b[0m\u001b[0;34m,\u001b[0m\u001b[0;34m\u001b[0m\u001b[0;34m\u001b[0m\u001b[0m\n",
      "\u001b[0;32m~/anaconda3/envs/planning/lib/python3.9/site-packages/ipykernel/kernelbase.py\u001b[0m in \u001b[0;36m_input_request\u001b[0;34m(self, prompt, ident, parent, password)\u001b[0m\n\u001b[1;32m    902\u001b[0m             \u001b[0;32mexcept\u001b[0m \u001b[0mKeyboardInterrupt\u001b[0m\u001b[0;34m:\u001b[0m\u001b[0;34m\u001b[0m\u001b[0;34m\u001b[0m\u001b[0m\n\u001b[1;32m    903\u001b[0m                 \u001b[0;31m# re-raise KeyboardInterrupt, to truncate traceback\u001b[0m\u001b[0;34m\u001b[0m\u001b[0;34m\u001b[0m\u001b[0;34m\u001b[0m\u001b[0m\n\u001b[0;32m--> 904\u001b[0;31m                 \u001b[0;32mraise\u001b[0m \u001b[0mKeyboardInterrupt\u001b[0m\u001b[0;34m(\u001b[0m\u001b[0;34m\"Interrupted by user\"\u001b[0m\u001b[0;34m)\u001b[0m \u001b[0;32mfrom\u001b[0m \u001b[0;32mNone\u001b[0m\u001b[0;34m\u001b[0m\u001b[0;34m\u001b[0m\u001b[0m\n\u001b[0m\u001b[1;32m    905\u001b[0m             \u001b[0;32mexcept\u001b[0m \u001b[0mException\u001b[0m \u001b[0;32mas\u001b[0m \u001b[0me\u001b[0m\u001b[0;34m:\u001b[0m\u001b[0;34m\u001b[0m\u001b[0;34m\u001b[0m\u001b[0m\n\u001b[1;32m    906\u001b[0m                 \u001b[0mself\u001b[0m\u001b[0;34m.\u001b[0m\u001b[0mlog\u001b[0m\u001b[0;34m.\u001b[0m\u001b[0mwarning\u001b[0m\u001b[0;34m(\u001b[0m\u001b[0;34m\"Invalid Message:\"\u001b[0m\u001b[0;34m,\u001b[0m \u001b[0mexc_info\u001b[0m\u001b[0;34m=\u001b[0m\u001b[0;32mTrue\u001b[0m\u001b[0;34m)\u001b[0m\u001b[0;34m\u001b[0m\u001b[0;34m\u001b[0m\u001b[0m\n",
      "\u001b[0;31mKeyboardInterrupt\u001b[0m: Interrupted by user"
     ]
    }
   ],
   "metadata": {}
  },
  {
   "cell_type": "code",
   "execution_count": null,
   "source": [],
   "outputs": [],
   "metadata": {}
  },
  {
   "cell_type": "code",
   "execution_count": null,
   "source": [],
   "outputs": [],
   "metadata": {}
  }
 ],
 "metadata": {
  "interpreter": {
   "hash": "04d11ad3d1cea2d143d46fa2df9d17255dbc798c803df9061661b0b48babb149"
  },
  "kernelspec": {
   "name": "python3",
   "display_name": "Python 3.9.6 64-bit ('planning': conda)"
  },
  "language_info": {
   "codemirror_mode": {
    "name": "ipython",
    "version": 3
   },
   "file_extension": ".py",
   "mimetype": "text/x-python",
   "name": "python",
   "nbconvert_exporter": "python",
   "pygments_lexer": "ipython3",
   "version": "3.9.6"
  }
 },
 "nbformat": 4,
 "nbformat_minor": 5
}