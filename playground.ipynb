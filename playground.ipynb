{
 "cells": [
  {
   "cell_type": "code",
   "execution_count": 11,
   "id": "8d77ecb7",
   "metadata": {},
   "outputs": [],
   "source": [
    "from ai2thor.controller import Controller\n",
    "from tasks import ServeCoffee, ServeEgg\n",
    "import scene_info as si\n",
    "from pddl2scene import PlanFileHandler\n",
    "from scene2pddl import SceneHandler\n",
    "\n",
    "controller = Controller(\n",
    "    agentMode=\"default\",\n",
    "    visibilityDistance=1.5,\n",
    "    scene=\"FloorPlan3\",\n",
    "\n",
    "    # step sizes\n",
    "    gridSize=0.25,\n",
    "    snapToGrid=True,\n",
    "    rotateStepDegrees=90,\n",
    "\n",
    "    # image modalities\n",
    "    renderDepthImage=False,\n",
    "    renderInstanceSegmentation=False,\n",
    "\n",
    "    # camera properties\n",
    "    width=320,\n",
    "    height=180,\n",
    "    fieldOfView=100\n",
    ")"
   ]
  },
  {
   "cell_type": "code",
   "execution_count": 12,
   "id": "598c6d3e",
   "metadata": {},
   "outputs": [],
   "source": [
    "tasks = [ServeCoffee(),\n",
    "         ServeEgg()]"
   ]
  },
  {
   "cell_type": "code",
   "execution_count": 13,
   "id": "c5dce85e",
   "metadata": {},
   "outputs": [
    {
     "name": "stdout",
     "output_type": "stream",
     "text": [
      "File pddl/problem_857604.pddl written successfully\n",
      "pddl/problem_857604.pddl\n"
     ]
    }
   ],
   "source": [
    "last_scene = si.Scene(controller)\n",
    "pddl_filename = SceneHandler(last_scene, tasks).ToPDDL()\n",
    "\n",
    "print(pddl_filename)"
   ]
  },
  {
   "cell_type": "code",
   "execution_count": null,
   "id": "879984f7",
   "metadata": {},
   "outputs": [],
   "source": []
  },
  {
   "cell_type": "code",
   "execution_count": null,
   "id": "64416ed7",
   "metadata": {},
   "outputs": [],
   "source": [
    "\n",
    "scene_model = sp.scene2pddl(last_scene)\n",
    "\n",
    "task = ServeCoffee()\n",
    "scene_model.subtasks = [task]\n",
    "\n",
    "print(scene_model.predicates)"
   ]
  },
  {
   "cell_type": "code",
   "execution_count": 3,
   "id": "5802d3bd",
   "metadata": {},
   "outputs": [
    {
     "ename": "AttributeError",
     "evalue": "module 'scene2pddl' has no attribute 'SceneInfo'",
     "output_type": "error",
     "traceback": [
      "\u001b[0;31m---------------------------------------------------------------------------\u001b[0m",
      "\u001b[0;31mAttributeError\u001b[0m                            Traceback (most recent call last)",
      "\u001b[0;32m<ipython-input-3-5f23f759388b>\u001b[0m in \u001b[0;36m<module>\u001b[0;34m\u001b[0m\n\u001b[1;32m      4\u001b[0m     \u001b[0mforceAction\u001b[0m\u001b[0;34m=\u001b[0m\u001b[0;32mFalse\u001b[0m\u001b[0;34m\u001b[0m\u001b[0;34m\u001b[0m\u001b[0m\n\u001b[1;32m      5\u001b[0m )\n\u001b[0;32m----> 6\u001b[0;31m \u001b[0minfo\u001b[0m \u001b[0;34m=\u001b[0m \u001b[0msp\u001b[0m\u001b[0;34m.\u001b[0m\u001b[0mSceneInfo\u001b[0m\u001b[0;34m(\u001b[0m\u001b[0mcontroller\u001b[0m\u001b[0;34m,\u001b[0m \u001b[0mevent\u001b[0m\u001b[0;34m)\u001b[0m\u001b[0;34m\u001b[0m\u001b[0;34m\u001b[0m\u001b[0m\n\u001b[0m\u001b[1;32m      7\u001b[0m \u001b[0mprint\u001b[0m\u001b[0;34m(\u001b[0m\u001b[0;34m[\u001b[0m\u001b[0mobj\u001b[0m\u001b[0;34m.\u001b[0m\u001b[0mmetadata\u001b[0m \u001b[0;32mfor\u001b[0m \u001b[0mobj\u001b[0m \u001b[0;32min\u001b[0m \u001b[0minfo\u001b[0m\u001b[0;34m.\u001b[0m\u001b[0mobjects\u001b[0m \u001b[0;32mif\u001b[0m \u001b[0mobj\u001b[0m\u001b[0;34m.\u001b[0m\u001b[0mmetadata\u001b[0m\u001b[0;34m[\u001b[0m\u001b[0;34m\"id\"\u001b[0m\u001b[0;34m]\u001b[0m\u001b[0;34m==\u001b[0m\u001b[0;34m\"CoffeeMachine|+01.13|+01.31|-01.43\"\u001b[0m\u001b[0;34m]\u001b[0m\u001b[0;34m)\u001b[0m\u001b[0;34m\u001b[0m\u001b[0;34m\u001b[0m\u001b[0m\n",
      "\u001b[0;31mAttributeError\u001b[0m: module 'scene2pddl' has no attribute 'SceneInfo'"
     ]
    }
   ],
   "source": [
    "event = controller.step(\n",
    "    action=\"DropHandObject\",\n",
    "    objectId=\"Pot|-01.58|+01.31|-01.58\",\n",
    "    forceAction=False\n",
    ")\n",
    "info = sp.SceneInfo(controller, event)   \n",
    "print([obj.metadata for obj in info.objects if obj.metadata[\"id\"]==\"CoffeeMachine|+01.13|+01.31|-01.43\"]) "
   ]
  },
  {
   "cell_type": "code",
   "execution_count": null,
   "id": "bfaaa33b",
   "metadata": {},
   "outputs": [],
   "source": [
    "#print([obj.metadata[\"id\"] for obj in info.objects])\n",
    "\n",
    "# if obj.metadata[\"type\"] == \"coffee\"])"
   ]
  },
  {
   "cell_type": "code",
   "execution_count": null,
   "id": "a60ea7ac",
   "metadata": {},
   "outputs": [],
   "source": [
    "controller.step(action=\"PickupObject\", objectId=\"Box|-00.47|+01.04|-00.71\")"
   ]
  },
  {
   "cell_type": "code",
   "execution_count": null,
   "id": "38a07608",
   "metadata": {},
   "outputs": [],
   "source": []
  },
  {
   "cell_type": "code",
   "execution_count": null,
   "id": "8b78b1a5",
   "metadata": {},
   "outputs": [],
   "source": []
  }
 ],
 "metadata": {
  "interpreter": {
   "hash": "04d11ad3d1cea2d143d46fa2df9d17255dbc798c803df9061661b0b48babb149"
  },
  "kernelspec": {
   "display_name": "Python 3",
   "language": "python",
   "name": "python3"
  },
  "language_info": {
   "codemirror_mode": {
    "name": "ipython",
    "version": 3
   },
   "file_extension": ".py",
   "mimetype": "text/x-python",
   "name": "python",
   "nbconvert_exporter": "python",
   "pygments_lexer": "ipython3",
   "version": "3.9.5"
  }
 },
 "nbformat": 4,
 "nbformat_minor": 5
}
