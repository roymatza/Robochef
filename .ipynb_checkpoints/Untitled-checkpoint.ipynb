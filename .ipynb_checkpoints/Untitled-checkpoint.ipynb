{
 "cells": [
  {
   "cell_type": "code",
   "execution_count": null,
   "id": "5ff147ee-3c5f-46a7-be24-def7386d7493",
   "metadata": {},
   "outputs": [],
   "source": [
    "from ai2thor.controller import Controller"
   ]
  },
  {
   "cell_type": "code",
   "execution_count": null,
   "id": "a08beeb5-445e-41a1-bca4-7639bd75bad5",
   "metadata": {},
   "outputs": [],
   "source": [
    "controller = Controller(\n",
    "    agentMode=\"default\",\n",
    "    visibilityDistance=1.5,\n",
    "    scene=\"FloorPlan212\",\n",
    "\n",
    "    # step sizes\n",
    "    gridSize=0.25,\n",
    "    snapToGrid=True,\n",
    "    rotateStepDegrees=90,\n",
    "\n",
    "    # image modalities\n",
    "    renderDepthImage=False,\n",
    "    renderInstanceSegmentation=False,\n",
    "\n",
    "    # camera properties\n",
    "    width=300,\n",
    "    height=300,\n",
    "    fieldOfView=90\n",
    ")"
   ]
  }
 ],
 "metadata": {
  "kernelspec": {
   "display_name": "Python 3",
   "language": "python",
   "name": "python3"
  },
  "language_info": {
   "codemirror_mode": {
    "name": "ipython",
    "version": 3
   },
   "file_extension": ".py",
   "mimetype": "text/x-python",
   "name": "python",
   "nbconvert_exporter": "python",
   "pygments_lexer": "ipython3",
   "version": "3.8.8"
  }
 },
 "nbformat": 4,
 "nbformat_minor": 5
}
