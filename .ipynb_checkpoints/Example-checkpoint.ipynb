{
 "cells": [
  {
   "cell_type": "code",
   "execution_count": 1,
   "id": "f9cc6484",
   "metadata": {},
   "outputs": [],
   "source": [
    "import os, shutil\n",
    "from time import sleep\n",
    "\n",
    "from ai2thor.server import Event\n",
    "from problem import Problem\n",
    "from ai2thor.controller import Controller\n",
    "from tasks import ServeCoffee, ServeEgg\n",
    "import scene_info as si\n",
    "from pddl2scene import PlanHandler\n",
    "from scene2pddl import SceneHandler"
   ]
  },
  {
   "cell_type": "code",
   "execution_count": 2,
   "id": "969617ea",
   "metadata": {},
   "outputs": [],
   "source": [
    "controller = Controller(\n",
    "    agentMode=\"default\",\n",
    "    visibilityDistance = si.visibilityDistance,\n",
    "    scene=\"FloorPlan3\",\n",
    "\n",
    "    # step sizes\n",
    "    gridSize=0.25,\n",
    "    snapToGrid=True,\n",
    "    rotateStepDegrees=90,\n",
    "\n",
    "    # image modalities\n",
    "    renderDepthImage=False,\n",
    "    renderInstanceSegmentation=False,\n",
    "\n",
    "    branch=\"main\",\n",
    "\n",
    "\n",
    "    #camera properties\n",
    "    width=1920,\n",
    "    height=1080,\n",
    "    fieldOfView=120\n",
    ")"
   ]
  },
  {
   "cell_type": "code",
   "execution_count": 3,
   "id": "43f0e7b2",
   "metadata": {},
   "outputs": [],
   "source": [
    "domain_filename = \"pddl/robochef.pddl\"\n",
    "problems_path = \"pddl/problems\"\n",
    "planner_path = \"planners/LPG-td-1.4/lpg-td\"\n",
    "max_actions = 1000"
   ]
  },
  {
   "cell_type": "code",
   "execution_count": 4,
   "id": "b0f59c21",
   "metadata": {},
   "outputs": [],
   "source": [
    "#clean old data\n",
    "if os.path.exists(problems_path):\n",
    "    shutil.rmtree(problems_path)\n",
    "os.mkdir(problems_path)"
   ]
  },
  {
   "cell_type": "code",
   "execution_count": 5,
   "id": "2d4f6c81",
   "metadata": {},
   "outputs": [],
   "source": [
    "#choose tasks\n",
    "tasks = [ServeCoffee(),\n",
    "         ServeEgg()]"
   ]
  },
  {
   "cell_type": "code",
   "execution_count": 6,
   "id": "51562544",
   "metadata": {},
   "outputs": [],
   "source": [
    "#model the problem\n",
    "problem = Problem(controller, tasks)"
   ]
  },
  {
   "cell_type": "code",
   "execution_count": 7,
   "id": "2dd8c0b0",
   "metadata": {},
   "outputs": [
    {
     "name": "stdout",
     "output_type": "stream",
     "text": [
      "File pddl/problems/problem_521930.pddl written successfully\n"
     ]
    }
   ],
   "source": [
    "#generate a PDDL problem file\n",
    "problem_filename = SceneHandler(problem).ToPDDL(problems_path)"
   ]
  },
  {
   "cell_type": "code",
   "execution_count": 8,
   "id": "3dca55da",
   "metadata": {},
   "outputs": [],
   "source": [
    "#use planner to get a solution\n",
    "plan_filepath, l_from, l_to = SceneHandler.Plan(planner_path, domain_filename, problem_filename)"
   ]
  },
  {
   "cell_type": "code",
   "execution_count": 9,
   "id": "7fee2c95",
   "metadata": {},
   "outputs": [
    {
     "name": "stdout",
     "output_type": "stream",
     "text": [
      "\n",
      "; Version LPG-td-1.4\n",
      "; Seed 18691129\n",
      "; Command line: planners/LPG-td-1.4/lpg-td -o pddl/robochef.pddl -f pddl/problems/problem_521930.pddl -n 1 -out pddl/problems/problem_521930 \n",
      "; Problem pddl/problems/problem_521930.pddl\n",
      "; Actions having STRIPS duration\n",
      "; Time 0.02\n",
      "; Search time 0.01\n",
      "; Parsing time 0.00\n",
      "; Mutex time 0.00\n",
      "; NrActions 41\n",
      "\n",
      "0:   (MOVE-ROBOT COFFEEMACHINE1 EGG1) [1]\n",
      "1:   (MAKE-INTERACTABLE EGG1) [1]\n",
      "2:   (PICKUP EGG1) [1]\n",
      "3:   (MOVE-ROBOT EGG1 PAN1) [1]\n",
      "4:   (MAKE-INTERACTABLE PAN1) [1]\n",
      "5:   (PUT EGG1 PAN1) [1]\n",
      "6:   (PICKUP PAN1) [1]\n",
      "7:   (MOVE-ROBOT PAN1 STOVEBURNER1) [1]\n",
      "8:   (MAKE-INTERACTABLE STOVEBURNER1) [1]\n",
      "9:   (PUT PAN1 STOVEBURNER1) [1]\n",
      "10:   (TURN-ON STOVEBURNER1) [1]\n",
      "11:   (MOVE-ROBOT STOVEBURNER1 MUG1) [1]\n",
      "12:   (MAKE-INTERACTABLE MUG1) [1]\n",
      "13:   (PICKUP MUG1) [1]\n",
      "14:   (MOVE-ROBOT MUG1 COUNTERTOP1) [1]\n",
      "15:   (MOVE-ROBOT COUNTERTOP1 COFFEEMACHINE1) [1]\n",
      "16:   (MAKE-INTERACTABLE COFFEEMACHINE1) [1]\n",
      "17:   (PUT MUG1 COFFEEMACHINE1) [1]\n",
      "18:   (MAKE-COFFEE COFFEEMACHINE1 MUG1) [1]\n",
      "19:   (MOVE-ROBOT COFFEEMACHINE1 MUG1) [1]\n",
      "20:   (MAKE-INTERACTABLE MUG1) [1]\n",
      "21:   (PICKUP MUG1) [1]\n",
      "22:   (MOVE-ROBOT MUG1 COUNTERTOP1) [1]\n",
      "23:   (MAKE-INTERACTABLE COUNTERTOP1) [1]\n",
      "24:   (PLACE MUG1 COUNTERTOP1) [1]\n",
      "25:   (MOVE-ROBOT COUNTERTOP1 STOVEBURNER1) [1]\n",
      "26:   (MOVE-ROBOT STOVEBURNER1 PLATE1) [1]\n",
      "27:   (MAKE-INTERACTABLE PLATE1) [1]\n",
      "28:   (PICKUP PLATE1) [1]\n",
      "29:   (MOVE-ROBOT PLATE1 PAN1) [1]\n",
      "30:   (MOVE-ROBOT PAN1 COUNTERTOP1) [1]\n",
      "31:   (MAKE-INTERACTABLE COUNTERTOP1) [1]\n",
      "32:   (PLACE PLATE1 COUNTERTOP1) [1]\n",
      "33:   (MOVE-ROBOT COUNTERTOP1 EGG1) [1]\n",
      "34:   (MAKE-INTERACTABLE EGG1) [1]\n",
      "35:   (BREAK-EGG EGG1 PAN1) [1]\n",
      "36:   (COOK EGG1 PAN1 STOVEBURNER1) [1]\n",
      "37:   (PICKUP EGG1) [1]\n",
      "38:   (MOVE-ROBOT EGG1 PLATE1) [1]\n",
      "39:   (MAKE-INTERACTABLE PLATE1) [1]\n",
      "40:   (PUT EGG1 PLATE1) [1]\n",
      "\n"
     ]
    }
   ],
   "source": [
    "#generate a plan\n",
    "plan_handler = PlanHandler(plan_filepath, problem, l_from, l_to)\n",
    "plan_handler.print_plan()"
   ]
  },
  {
   "cell_type": "code",
   "execution_count": null,
   "id": "c501ddaa",
   "metadata": {},
   "outputs": [
    {
     "name": "stdout",
     "output_type": "stream",
     "text": [
      "Done--successful\n",
      "TeleportFull--successful\n",
      "PickupObject--successful\n",
      "Done--successful\n",
      "TeleportFull--successful\n",
      "PutObject--successful\n",
      "PickupObject--successful\n",
      "Done--successful\n",
      "TeleportFull--successful\n",
      "PutObject--successful\n",
      "ToggleObjectOn--successful\n",
      "Done--successful\n",
      "TeleportFull--successful\n",
      "PickupObject--successful\n",
      "Done--successful\n",
      "Done--successful\n",
      "TeleportFull--successful\n",
      "PutObject--successful\n",
      "ToggleObjectOn--successful\n",
      "Done--successful\n",
      "TeleportFull--successful\n",
      "PickupObject--successful\n",
      "Done--successful\n",
      "TeleportFull--successful\n",
      "PutObject--successful\n",
      "Done--successful\n",
      "Done--successful\n",
      "TeleportFull--successful\n",
      "PickupObject--successful\n",
      "Done--successful\n",
      "Done--successful\n",
      "TeleportFull--successful\n",
      "PutObject--successful\n",
      "Done--successful\n",
      "TeleportFull--successful\n",
      "SliceObject--successful\n",
      "SliceObject--successful\n",
      "PickupObject--successful\n",
      "Done--successful\n",
      "TeleportFull--successful\n"
     ]
    }
   ],
   "source": [
    "#parse plan file sequentually and execute actions\n",
    "for i in range(max_actions):\n",
    "    action = plan_handler.parse_line()\n",
    "    if action is not None:\n",
    "        event = action.execute()\n",
    "        Problem.PrintLastActionStatus(event)\n",
    "        sleep(0.7)\n",
    "    else:\n",
    "        problem.controller.step(action = \"Done\")\n",
    "        problem.controller.step(action = \"Done\")\n",
    "        problem.controller.step(action = \"Done\")\n",
    "        input(\"Mission finished! Press Enter to continue...\")\n",
    "        break"
   ]
  },
  {
   "cell_type": "code",
   "execution_count": null,
   "id": "d15eaeae",
   "metadata": {},
   "outputs": [],
   "source": []
  },
  {
   "cell_type": "code",
   "execution_count": null,
   "id": "7ae9f3f0",
   "metadata": {},
   "outputs": [],
   "source": []
  }
 ],
 "metadata": {
  "kernelspec": {
   "display_name": "planning",
   "language": "python",
   "name": "planning"
  },
  "language_info": {
   "codemirror_mode": {
    "name": "ipython",
    "version": 3
   },
   "file_extension": ".py",
   "mimetype": "text/x-python",
   "name": "python",
   "nbconvert_exporter": "python",
   "pygments_lexer": "ipython3",
   "version": "3.9.6"
  }
 },
 "nbformat": 4,
 "nbformat_minor": 5
}
